{
  "nbformat": 4,
  "nbformat_minor": 0,
  "metadata": {
    "colab": {
      "provenance": [],
      "collapsed_sections": []
    },
    "kernelspec": {
      "name": "python3",
      "display_name": "Python 3"
    },
    "language_info": {
      "name": "python"
    }
  },
  "cells": [
    {
      "cell_type": "code",
      "execution_count": null,
      "metadata": {
        "id": "LewURalIYbKZ"
      },
      "outputs": [],
      "source": [
        "import numpy as np\n",
        "import pandas as pd\n",
        "import matplotlib.pyplot as plt\n",
        "\n",
        "from keras.layers import Flatten, Dense\n",
        "from keras.models import Model\n",
        "from keras.preprocessing.image import ImageDataGenerator , img_to_array, load_img\n",
        "from keras.applications.mobilenet import MobileNet, preprocess_input \n",
        "from keras.losses import categorical_crossentropy"
      ]
    },
    {
      "cell_type": "code",
      "source": [
        "# Working with pre trained model \n",
        "\n",
        "base_model = MobileNet( input_shape=(224,224,3), include_top= False )\n",
        "\n",
        "for layer in base_model.layers:\n",
        "  layer.trainable = False\n",
        "\n",
        "\n",
        "x = Flatten()(base_model.output)\n",
        "x = Dense(units=7 , activation='softmax' )(x)\n",
        "\n",
        "# creating our model.\n",
        "model = Model(base_model.input, x)"
      ],
      "metadata": {
        "id": "yVy8YvJGYdRz"
      },
      "execution_count": null,
      "outputs": []
    },
    {
      "cell_type": "code",
      "source": [
        "model.compile(optimizer='adam', loss= categorical_crossentropy , metrics=['accuracy']  )"
      ],
      "metadata": {
        "id": "yoFbSfrUYhDh"
      },
      "execution_count": null,
      "outputs": []
    },
    {
      "cell_type": "code",
      "source": [
        "import os\n",
        "import pandas as pd\n",
        "import numpy as np\n",
        "import xml.etree.ElementTree as ET"
      ],
      "metadata": {
        "id": "Ts99Tg_TYina"
      },
      "execution_count": null,
      "outputs": []
    },
    {
      "cell_type": "code",
      "source": [
        "sessions = {}\n",
        "directory_template = './data/mmi/Sessions/$session$/'\n",
        "for session in os.listdir('./data/mmi/Sessions'):\n",
        "    # Find XML filename\n",
        "    directory = directory_template.replace('$session$', session)\n",
        "    files = os.listdir(directory)\n",
        "    xml_filename = directory + files[1]\n",
        "    \n",
        "    # Load AUs\n",
        "    aus = []\n",
        "    root = ET.parse(xml_filename).getroot()\n",
        "    for au in root.iter('ActionUnit'):\n",
        "        aus.append(au.attrib['Number'])\n",
        "    \n",
        "    # Load JPG filename\n",
        "    jpg_filename = directory + files[0]\n",
        "    \n",
        "    sessions[session] = {\n",
        "        'aus': aus,\n",
        "        'img': jpg_filename\n",
        "    }\n",
        "    \n",
        "assert len(sessions) == 493\n",
        "print(f'{len(sessions)} sessions loaded')"
      ],
      "metadata": {
        "id": "pAXqdqZuYkT6"
      },
      "execution_count": null,
      "outputs": []
    },
    {
      "cell_type": "code",
      "source": [
        "from google.colab import drive\n",
        "drive.mount('/content/drive')"
      ],
      "metadata": {
        "id": "pnyc9dR-Yl0y"
      },
      "execution_count": null,
      "outputs": []
    },
    {
      "cell_type": "code",
      "source": [
        "df_sessions = pd.DataFrame.from_dict(sessions, orient='index')\n",
        "df_sessions.index.rename('session', inplace=True)\n",
        "\n",
        "df_sessions_null = df_sessions.loc[df_sessions['aus'].apply(lambda x: len(x)) == 0]\n",
        "df_sessions = df_sessions.loc[df_sessions['aus'].apply(lambda x: len(x)) != 0]\n",
        "\n",
        "print(f'df_sessions_null: {df_sessions_null.shape}')\n",
        "print(f'df_sessions: {df_sessions.shape}')\n",
        "print()\n",
        "df_sessions.info()\n",
        "print()\n",
        "df_sessions.head()"
      ],
      "metadata": {
        "id": "0syNTBzUYmP4"
      },
      "execution_count": null,
      "outputs": []
    },
    {
      "cell_type": "code",
      "source": [
        "train_datagen = ImageDataGenerator(\n",
        "     zoom_range = 0.2, \n",
        "     shear_range = 0.2, \n",
        "     horizontal_flip=True, \n",
        "     rescale = 1./255\n",
        ")\n",
        "\n",
        "train_data = train_datagen(\n",
        "  dataframe = df_sessions,\n",
        "  directory=\"./train/\",\n",
        "  x_col = \"id\",\n",
        "  y_col = \"label\",\n",
        "  subset = \"training\",\n",
        "  batch_size = 32,\n",
        "  seed = 42,\n",
        "  shuffle = True,\n",
        "  class_mode = \"categorical\",\n",
        "  target_size = (32,32))"
      ],
      "metadata": {
        "id": "eROna-dRYqdO"
      },
      "execution_count": null,
      "outputs": []
    },
    {
      "cell_type": "code",
      "source": [
        "val_datagen = ImageDataGenerator(rescale = 1./255 )\n",
        "\n",
        "val_data = val_datagen.flow_from_directory(directory= \"/content/test\", \n",
        "                                           target_size=(224,224), \n",
        "                                           batch_size=32,\n",
        "                                  )"
      ],
      "metadata": {
        "id": "VTX5ZQAwYswU"
      },
      "execution_count": null,
      "outputs": []
    },
    {
      "cell_type": "code",
      "source": [
        "# to visualize the images in the traing data denerator \n",
        "\n",
        "t_img , label = train_data.next()\n",
        "\n",
        "#-----------------------------------------------------------------------------\n",
        "# function when called will prot the images \n",
        "def plotImages(img_arr, label):\n",
        "  \"\"\"\n",
        "  input  :- images array \n",
        "  output :- plots the images \n",
        "  \"\"\"\n",
        "  count = 0\n",
        "  for im, l in zip(img_arr,label) :\n",
        "    plt.imshow(im)\n",
        "    plt.title(im.shape)\n",
        "    plt.axis = False\n",
        "    plt.show()\n",
        "    \n",
        "    count += 1\n",
        "    if count == 10:\n",
        "      break\n",
        "\n",
        "#-----------------------------------------------------------------------------\n",
        "# function call to plot the images \n",
        "plotImages(t_img, label)"
      ],
      "metadata": {
        "id": "4QVzDWNZYub4"
      },
      "execution_count": null,
      "outputs": []
    },
    {
      "cell_type": "code",
      "source": [
        "hist = model.fit_generator(train_data, \n",
        "                           steps_per_epoch= 10, \n",
        "                           epochs= 30, \n",
        "                           validation_data= val_data, \n",
        "                           validation_steps= 8)"
      ],
      "metadata": {
        "id": "KdaNe3YsYwKH"
      },
      "execution_count": null,
      "outputs": []
    },
    {
      "cell_type": "code",
      "source": [
        "# Loading the best fit model \n",
        "from keras.models import load_model\n",
        "model = load_model(\"/content/best_model.h5\")"
      ],
      "metadata": {
        "id": "s2c0Uru2YxkN"
      },
      "execution_count": null,
      "outputs": []
    }
  ]
}