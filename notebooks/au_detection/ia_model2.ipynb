{
 "cells": [
  {
   "cell_type": "code",
   "execution_count": 1,
   "id": "908db170-2219-4a4c-9dc0-e0c6ef83cfe3",
   "metadata": {},
   "outputs": [
    {
     "name": "stdout",
     "output_type": "stream",
     "text": [
      "Python: 3.8.10 (tags/v3.8.10:3d8993a, May  3 2021, 11:48:03) [MSC v.1928 64 bit (AMD64)]\n"
     ]
    }
   ],
   "source": [
    "import os\n",
    "import sys\n",
    "import pandas as pd\n",
    "import numpy as np\n",
    "import xml.etree.ElementTree as ET\n",
    "import matplotlib.pyplot as plt\n",
    "\n",
    "from keras.layers import Flatten, Dense\n",
    "from keras.models import Model\n",
    "from keras.preprocessing.image import ImageDataGenerator\n",
    "from keras.applications.mobilenet import MobileNet, preprocess_input\n",
    "from keras.losses import categorical_crossentropy\n",
    "\n",
    "import tensorflow as tf\n",
    "\n",
    "print(f'Python: {sys.version}')"
   ]
  },
  {
   "cell_type": "code",
   "execution_count": 2,
   "id": "ffdac63b-febf-47ca-b258-878a7402c262",
   "metadata": {},
   "outputs": [],
   "source": [
    "RANDOM_STATE = 0"
   ]
  },
  {
   "cell_type": "code",
   "execution_count": 3,
   "id": "7a26b555-4003-4294-891f-a69ef5066c51",
   "metadata": {},
   "outputs": [],
   "source": [
    "# Working with pre trained model \n",
    "\n",
    "#base_model = MobileNet(input_shape=(224, 224, 3), include_top=False)\n",
    "base_model = MobileNet(\n",
    "    input_shape=None,\n",
    "    alpha=1.0,\n",
    "    depth_multiplier=1,\n",
    "    dropout=0.001,\n",
    "    include_top=True,\n",
    "    weights=\"imagenet\",\n",
    "    input_tensor=None,\n",
    "    pooling=None,\n",
    "    classes=1000,\n",
    "    classifier_activation=\"softmax\"\n",
    ")\n",
    "\n",
    "\n",
    "for layer in base_model.layers:\n",
    "  layer.trainable = False\n",
    "\n",
    "\n",
    "x = Flatten()(base_model.output)\n",
    "x = Dense(units=52 , activation='softmax')(x)\n",
    "\n",
    "# creating our model.\n",
    "model = Model(base_model.input, x)"
   ]
  },
  {
   "cell_type": "code",
   "execution_count": 4,
   "id": "2616ac31-9f8e-485c-9395-85d719fdb47d",
   "metadata": {},
   "outputs": [],
   "source": [
    "model.compile(optimizer='adam', loss=categorical_crossentropy , metrics=['accuracy'])"
   ]
  },
  {
   "cell_type": "code",
   "execution_count": 5,
   "id": "d63a896a-3533-44d5-84f0-ed6b8681b3fe",
   "metadata": {},
   "outputs": [],
   "source": [
    "sessions = []\n",
    "directory_template = './data/images/images/train/$session$/'\n",
    "for session in os.listdir('./data/images/images/train'):\n",
    "    # Find XML filename\n",
    "    directory = directory_template.replace('$session$', session)\n",
    "    files = os.listdir(directory)\n",
    "    \n",
    "    for file in files:\n",
    "        # Load JPG filename\n",
    "        jpg_filename = directory + file\n",
    "        \n",
    "        emotion_dict = {\n",
    "            'emotion': session,\n",
    "            'img': jpg_filename\n",
    "        }\n",
    "        sessions.append(emotion_dict)\n"
   ]
  },
  {
   "cell_type": "code",
   "execution_count": 6,
   "id": "5630f906-232f-476c-8eba-9b848f83dceb",
   "metadata": {},
   "outputs": [
    {
     "data": {
      "text/plain": [
       "<bound method DataFrame.info of           emotion                                           img  aus\n",
       "session                                                             \n",
       "0           angry        ./data/images/images/train/angry/0.jpg    0\n",
       "1           angry        ./data/images/images/train/angry/1.jpg    0\n",
       "2           angry       ./data/images/images/train/angry/10.jpg    0\n",
       "3           angry    ./data/images/images/train/angry/10002.jpg    0\n",
       "4           angry    ./data/images/images/train/angry/10016.jpg    0\n",
       "...           ...                                           ...  ...\n",
       "28816    surprise  ./data/images/images/train/surprise/9969.jpg    0\n",
       "28817    surprise  ./data/images/images/train/surprise/9985.jpg    0\n",
       "28818    surprise  ./data/images/images/train/surprise/9990.jpg    0\n",
       "28819    surprise  ./data/images/images/train/surprise/9992.jpg    0\n",
       "28820    surprise  ./data/images/images/train/surprise/9996.jpg    0\n",
       "\n",
       "[28821 rows x 3 columns]>"
      ]
     },
     "execution_count": 6,
     "metadata": {},
     "output_type": "execute_result"
    }
   ],
   "source": [
    "df_sessions = pd.DataFrame(sessions)\n",
    "df_sessions.index.rename('session', inplace=True)\n",
    "df_sessions[\"aus\"] = 0\n",
    "df_sessions.info"
   ]
  },
  {
   "cell_type": "code",
   "execution_count": 7,
   "id": "a9974fbc-f848-42f7-bdc2-e1b1d0e2e938",
   "metadata": {},
   "outputs": [],
   "source": [
    "\n",
    "df_aus = pd.read_excel('data/aus.xlsx')"
   ]
  },
  {
   "cell_type": "code",
   "execution_count": 8,
   "id": "9323b6c1",
   "metadata": {},
   "outputs": [],
   "source": [
    "df_anger = df_sessions.loc[lambda df: df['emotion'] == \"angry\"].reset_index()\n",
    "df_disgust = df_sessions.loc[lambda df: df['emotion'] == \"disgust\"].reset_index()\n",
    "df_happy = df_sessions.loc[lambda df: df['emotion'] == \"happy\"].reset_index()\n",
    "df_fear = df_sessions.loc[lambda df: df['emotion'] == \"fear\"].reset_index()\n",
    "df_surprise = df_sessions.loc[lambda df: df['emotion'] == \"surprise\"].reset_index()\n",
    "df_sadness = df_sessions.loc[lambda df: df['emotion'] == \"sad\"].reset_index()\n",
    "df_neutral = df_sessions.loc[lambda df: df['emotion'] == \"neutral\"].reset_index()"
   ]
  },
  {
   "cell_type": "code",
   "execution_count": 9,
   "id": "a7c45982",
   "metadata": {},
   "outputs": [
    {
     "name": "stderr",
     "output_type": "stream",
     "text": [
      "C:\\Users\\rodol\\AppData\\Local\\Temp\\ipykernel_17796\\1784941372.py:14: SettingWithCopyWarning: \n",
      "A value is trying to be set on a copy of a slice from a DataFrame\n",
      "\n",
      "See the caveats in the documentation: https://pandas.pydata.org/pandas-docs/stable/user_guide/indexing.html#returning-a-view-versus-a-copy\n",
      "  df_anger[\"aus\"][i] = random_num\n",
      "C:\\Users\\rodol\\AppData\\Local\\Packages\\PythonSoftwareFoundation.Python.3.8_qbz5n2kfra8p0\\LocalCache\\local-packages\\Python38\\site-packages\\pandas\\core\\indexing.py:1732: SettingWithCopyWarning: \n",
      "A value is trying to be set on a copy of a slice from a DataFrame\n",
      "\n",
      "See the caveats in the documentation: https://pandas.pydata.org/pandas-docs/stable/user_guide/indexing.html#returning-a-view-versus-a-copy\n",
      "  self._setitem_single_block(indexer, value, name)\n",
      "C:\\Users\\rodol\\AppData\\Local\\Temp\\ipykernel_17796\\1784941372.py:21: SettingWithCopyWarning: \n",
      "A value is trying to be set on a copy of a slice from a DataFrame\n",
      "\n",
      "See the caveats in the documentation: https://pandas.pydata.org/pandas-docs/stable/user_guide/indexing.html#returning-a-view-versus-a-copy\n",
      "  df_disgust[\"aus\"][i] = random_num\n",
      "C:\\Users\\rodol\\AppData\\Local\\Temp\\ipykernel_17796\\1784941372.py:28: SettingWithCopyWarning: \n",
      "A value is trying to be set on a copy of a slice from a DataFrame\n",
      "\n",
      "See the caveats in the documentation: https://pandas.pydata.org/pandas-docs/stable/user_guide/indexing.html#returning-a-view-versus-a-copy\n",
      "  df_sadness[\"aus\"][i] = random_num\n",
      "C:\\Users\\rodol\\AppData\\Local\\Temp\\ipykernel_17796\\1784941372.py:35: SettingWithCopyWarning: \n",
      "A value is trying to be set on a copy of a slice from a DataFrame\n",
      "\n",
      "See the caveats in the documentation: https://pandas.pydata.org/pandas-docs/stable/user_guide/indexing.html#returning-a-view-versus-a-copy\n",
      "  df_fear[\"aus\"][i] = random_num\n",
      "C:\\Users\\rodol\\AppData\\Local\\Temp\\ipykernel_17796\\1784941372.py:42: SettingWithCopyWarning: \n",
      "A value is trying to be set on a copy of a slice from a DataFrame\n",
      "\n",
      "See the caveats in the documentation: https://pandas.pydata.org/pandas-docs/stable/user_guide/indexing.html#returning-a-view-versus-a-copy\n",
      "  df_surprise[\"aus\"][i] = random_num\n"
     ]
    }
   ],
   "source": [
    "import random\n",
    "list_anger = [\"4,5,7,10,22,23,25,26\", \"4,5,7,10,23,25,27\", \"4,5,7,23\", \"4,5,7,17,23\", \"4,5,7,17,24\"]\n",
    "list_disgust = [\"9,16,15,26\", \"9,17\", \"10, 17\", \"10,16,25,26\"]\n",
    "list_sadness = [\"1,4,11,15,54,64\",\"1,4,15\",\"6,15,54,64\",\"11,17\",\"1,4,15,17\"]\n",
    "list_fear = [\"1,2,4,5,20,25\",\"5,20\",\"1,2,4,5\",\"1,2,4,5,25\"]\n",
    "list_surprise=[\"1,2,5,26\", \"5,27\", \"1,2,26\", \"5,26\", \"1,2,5\", \"1,2,5,27\"]\n",
    "list_happy = [\"6,12\"]\n",
    "list_neutral = [\"0\"]\n",
    "\n",
    "for i in range(len(df_anger.values)):\n",
    "    rand_idx = random.randrange(len(list_anger))\n",
    "    random_num = list_anger[rand_idx]\n",
    "\n",
    "    df_anger[\"aus\"][i] = random_num\n",
    "\n",
    "i = 0\n",
    "for i in range(len(df_disgust.values)):\n",
    "    rand_idx = random.randrange(len(list_disgust))\n",
    "    random_num = list_disgust[rand_idx]\n",
    "\n",
    "    df_disgust[\"aus\"][i] = random_num\n",
    "\n",
    "i = 0\n",
    "for i in range(len(df_sadness.values)):\n",
    "    rand_idx = random.randrange(len(list_sadness))\n",
    "    random_num = list_sadness[rand_idx]\n",
    "\n",
    "    df_sadness[\"aus\"][i] = random_num\n",
    "\n",
    "i = 0\n",
    "for i in range(len(df_fear.values)):\n",
    "    rand_idx = random.randrange(len(list_fear))\n",
    "    random_num = list_fear[rand_idx]\n",
    "\n",
    "    df_fear[\"aus\"][i] = random_num\n",
    "\n",
    "i = 0\n",
    "for i in range(len(df_surprise.values)):\n",
    "    rand_idx = random.randrange(len(list_surprise))\n",
    "    random_num = list_surprise[rand_idx]\n",
    "\n",
    "    df_surprise[\"aus\"][i] = random_num\n",
    "\n",
    "df_happy[\"aus\"] = list_happy[0]\n",
    "df_neutral[\"aus\" ] = list_neutral[0]"
   ]
  },
  {
   "cell_type": "code",
   "execution_count": 10,
   "id": "367b8f7e",
   "metadata": {},
   "outputs": [
    {
     "data": {
      "text/html": [
       "<div>\n",
       "<style scoped>\n",
       "    .dataframe tbody tr th:only-of-type {\n",
       "        vertical-align: middle;\n",
       "    }\n",
       "\n",
       "    .dataframe tbody tr th {\n",
       "        vertical-align: top;\n",
       "    }\n",
       "\n",
       "    .dataframe thead th {\n",
       "        text-align: right;\n",
       "    }\n",
       "</style>\n",
       "<table border=\"1\" class=\"dataframe\">\n",
       "  <thead>\n",
       "    <tr style=\"text-align: right;\">\n",
       "      <th></th>\n",
       "      <th>emotion</th>\n",
       "      <th>img</th>\n",
       "      <th>aus</th>\n",
       "    </tr>\n",
       "  </thead>\n",
       "  <tbody>\n",
       "    <tr>\n",
       "      <th>0</th>\n",
       "      <td>angry</td>\n",
       "      <td>./data/images/images/train/angry/0.jpg</td>\n",
       "      <td>4,5,7,10,22,23,25,26</td>\n",
       "    </tr>\n",
       "    <tr>\n",
       "      <th>1</th>\n",
       "      <td>angry</td>\n",
       "      <td>./data/images/images/train/angry/1.jpg</td>\n",
       "      <td>4,5,7,17,23</td>\n",
       "    </tr>\n",
       "    <tr>\n",
       "      <th>2</th>\n",
       "      <td>angry</td>\n",
       "      <td>./data/images/images/train/angry/10.jpg</td>\n",
       "      <td>4,5,7,23</td>\n",
       "    </tr>\n",
       "    <tr>\n",
       "      <th>3</th>\n",
       "      <td>angry</td>\n",
       "      <td>./data/images/images/train/angry/10002.jpg</td>\n",
       "      <td>4,5,7,10,23,25,27</td>\n",
       "    </tr>\n",
       "    <tr>\n",
       "      <th>4</th>\n",
       "      <td>angry</td>\n",
       "      <td>./data/images/images/train/angry/10016.jpg</td>\n",
       "      <td>4,5,7,17,23</td>\n",
       "    </tr>\n",
       "    <tr>\n",
       "      <th>...</th>\n",
       "      <td>...</td>\n",
       "      <td>...</td>\n",
       "      <td>...</td>\n",
       "    </tr>\n",
       "    <tr>\n",
       "      <th>28816</th>\n",
       "      <td>neutral</td>\n",
       "      <td>./data/images/images/train/neutral/9987.jpg</td>\n",
       "      <td>0</td>\n",
       "    </tr>\n",
       "    <tr>\n",
       "      <th>28817</th>\n",
       "      <td>neutral</td>\n",
       "      <td>./data/images/images/train/neutral/999.jpg</td>\n",
       "      <td>0</td>\n",
       "    </tr>\n",
       "    <tr>\n",
       "      <th>28818</th>\n",
       "      <td>neutral</td>\n",
       "      <td>./data/images/images/train/neutral/9995.jpg</td>\n",
       "      <td>0</td>\n",
       "    </tr>\n",
       "    <tr>\n",
       "      <th>28819</th>\n",
       "      <td>neutral</td>\n",
       "      <td>./data/images/images/train/neutral/9998.jpg</td>\n",
       "      <td>0</td>\n",
       "    </tr>\n",
       "    <tr>\n",
       "      <th>28820</th>\n",
       "      <td>neutral</td>\n",
       "      <td>./data/images/images/train/neutral/9999.jpg</td>\n",
       "      <td>0</td>\n",
       "    </tr>\n",
       "  </tbody>\n",
       "</table>\n",
       "<p>28821 rows × 3 columns</p>\n",
       "</div>"
      ],
      "text/plain": [
       "       emotion                                          img  \\\n",
       "0        angry       ./data/images/images/train/angry/0.jpg   \n",
       "1        angry       ./data/images/images/train/angry/1.jpg   \n",
       "2        angry      ./data/images/images/train/angry/10.jpg   \n",
       "3        angry   ./data/images/images/train/angry/10002.jpg   \n",
       "4        angry   ./data/images/images/train/angry/10016.jpg   \n",
       "...        ...                                          ...   \n",
       "28816  neutral  ./data/images/images/train/neutral/9987.jpg   \n",
       "28817  neutral   ./data/images/images/train/neutral/999.jpg   \n",
       "28818  neutral  ./data/images/images/train/neutral/9995.jpg   \n",
       "28819  neutral  ./data/images/images/train/neutral/9998.jpg   \n",
       "28820  neutral  ./data/images/images/train/neutral/9999.jpg   \n",
       "\n",
       "                        aus  \n",
       "0      4,5,7,10,22,23,25,26  \n",
       "1               4,5,7,17,23  \n",
       "2                  4,5,7,23  \n",
       "3         4,5,7,10,23,25,27  \n",
       "4               4,5,7,17,23  \n",
       "...                     ...  \n",
       "28816                     0  \n",
       "28817                     0  \n",
       "28818                     0  \n",
       "28819                     0  \n",
       "28820                     0  \n",
       "\n",
       "[28821 rows x 3 columns]"
      ]
     },
     "execution_count": 10,
     "metadata": {},
     "output_type": "execute_result"
    }
   ],
   "source": [
    "df_treino = pd.read_csv(\"base_aus.csv\")\n",
    "df_treino = df_treino.drop(columns=\"Unnamed: 0\")\n",
    "df_treino"
   ]
  },
  {
   "cell_type": "code",
   "execution_count": 18,
   "id": "6be12063-4f60-41cb-a603-01016ee67c82",
   "metadata": {},
   "outputs": [
    {
     "name": "stdout",
     "output_type": "stream",
     "text": [
      "Found 28821 validated image filenames belonging to 26 classes.\n"
     ]
    }
   ],
   "source": [
    "train_datagen = ImageDataGenerator(\n",
    "    zoom_range = 0.2, \n",
    "    shear_range = 0.2, \n",
    "    horizontal_flip=True, \n",
    "    rescale = 1./255\n",
    ")\n",
    "train_data = train_datagen.flow_from_dataframe(\n",
    "    dataframe = pd.concat([df_treino]).sample(frac=1),\n",
    "    directory=\".\",\n",
    "    x_col = \"img\",\n",
    "    y_col = \"aus\",\n",
    "    subset = \"training\",\n",
    "    batch_size = 32,\n",
    "    seed = 42,\n",
    "    class_mode = \"categorical\",\n",
    "    target_size = (128,128)\n",
    ")"
   ]
  },
  {
   "cell_type": "code",
   "execution_count": 17,
   "id": "6a6a8d0f-99a5-4b15-be3e-ff61c1014198",
   "metadata": {},
   "outputs": [
    {
     "ename": "NameError",
     "evalue": "name 'scipy' is not defined",
     "output_type": "error",
     "traceback": [
      "\u001b[1;31m---------------------------------------------------------------------------\u001b[0m",
      "\u001b[1;31mNameError\u001b[0m                                 Traceback (most recent call last)",
      "Cell \u001b[1;32mIn [17], line 1\u001b[0m\n\u001b[1;32m----> 1\u001b[0m hist \u001b[39m=\u001b[39m model\u001b[39m.\u001b[39;49mfit(\n\u001b[0;32m      2\u001b[0m     train_data,\n\u001b[0;32m      3\u001b[0m     steps_per_epoch\u001b[39m=\u001b[39;49m\u001b[39m10\u001b[39;49m,\n\u001b[0;32m      4\u001b[0m     epochs\u001b[39m=\u001b[39;49m\u001b[39m30\u001b[39;49m,\n\u001b[0;32m      5\u001b[0m     validation_data\u001b[39m=\u001b[39;49mtrain_data,\n\u001b[0;32m      6\u001b[0m     validation_steps\u001b[39m=\u001b[39;49m\u001b[39m8\u001b[39;49m,\n\u001b[0;32m      7\u001b[0m     callbacks\u001b[39m=\u001b[39;49m[\n\u001b[0;32m      8\u001b[0m         tf\u001b[39m.\u001b[39;49mkeras\u001b[39m.\u001b[39;49mcallbacks\u001b[39m.\u001b[39;49mModelCheckpoint(\n\u001b[0;32m      9\u001b[0m             filepath\u001b[39m=\u001b[39;49m\u001b[39m'\u001b[39;49m\u001b[39m./results/model_aus.h5\u001b[39;49m\u001b[39m'\u001b[39;49m,\n\u001b[0;32m     10\u001b[0m             save_best_only\u001b[39m=\u001b[39;49m\u001b[39mTrue\u001b[39;49;00m,\n\u001b[0;32m     11\u001b[0m             monitor\u001b[39m=\u001b[39;49m\u001b[39m\"\u001b[39;49m\u001b[39maccuracy\u001b[39;49m\u001b[39m\"\u001b[39;49m\n\u001b[0;32m     12\u001b[0m         )\n\u001b[0;32m     13\u001b[0m     ]\n\u001b[0;32m     14\u001b[0m )\n\u001b[0;32m     16\u001b[0m \u001b[39mprint\u001b[39m()\n\u001b[0;32m     17\u001b[0m max_acc \u001b[39m=\u001b[39m \u001b[39mmax\u001b[39m(hist\u001b[39m.\u001b[39mhistory[\u001b[39m'\u001b[39m\u001b[39maccuracy\u001b[39m\u001b[39m'\u001b[39m]) \u001b[39m*\u001b[39m \u001b[39m100\u001b[39m\n",
      "File \u001b[1;32m~\\AppData\\Local\\Packages\\PythonSoftwareFoundation.Python.3.8_qbz5n2kfra8p0\\LocalCache\\local-packages\\Python38\\site-packages\\keras\\utils\\traceback_utils.py:70\u001b[0m, in \u001b[0;36mfilter_traceback.<locals>.error_handler\u001b[1;34m(*args, **kwargs)\u001b[0m\n\u001b[0;32m     67\u001b[0m     filtered_tb \u001b[39m=\u001b[39m _process_traceback_frames(e\u001b[39m.\u001b[39m__traceback__)\n\u001b[0;32m     68\u001b[0m     \u001b[39m# To get the full stack trace, call:\u001b[39;00m\n\u001b[0;32m     69\u001b[0m     \u001b[39m# `tf.debugging.disable_traceback_filtering()`\u001b[39;00m\n\u001b[1;32m---> 70\u001b[0m     \u001b[39mraise\u001b[39;00m e\u001b[39m.\u001b[39mwith_traceback(filtered_tb) \u001b[39mfrom\u001b[39;00m \u001b[39mNone\u001b[39m\n\u001b[0;32m     71\u001b[0m \u001b[39mfinally\u001b[39;00m:\n\u001b[0;32m     72\u001b[0m     \u001b[39mdel\u001b[39;00m filtered_tb\n",
      "File \u001b[1;32m~\\AppData\\Local\\Packages\\PythonSoftwareFoundation.Python.3.8_qbz5n2kfra8p0\\LocalCache\\local-packages\\Python38\\site-packages\\keras\\preprocessing\\image.py:2529\u001b[0m, in \u001b[0;36mapply_affine_transform\u001b[1;34m(x, theta, tx, ty, shear, zx, zy, row_axis, col_axis, channel_axis, fill_mode, cval, order)\u001b[0m\n\u001b[0;32m   2485\u001b[0m \u001b[39m@keras_export\u001b[39m(\u001b[39m\"\u001b[39m\u001b[39mkeras.preprocessing.image.apply_affine_transform\u001b[39m\u001b[39m\"\u001b[39m)\n\u001b[0;32m   2486\u001b[0m \u001b[39mdef\u001b[39;00m \u001b[39mapply_affine_transform\u001b[39m(\n\u001b[0;32m   2487\u001b[0m     x,\n\u001b[1;32m   (...)\u001b[0m\n\u001b[0;32m   2499\u001b[0m     order\u001b[39m=\u001b[39m\u001b[39m1\u001b[39m,\n\u001b[0;32m   2500\u001b[0m ):\n\u001b[0;32m   2501\u001b[0m     \u001b[39m\"\"\"Applies an affine transformation specified by the parameters given.\u001b[39;00m\n\u001b[0;32m   2502\u001b[0m \n\u001b[0;32m   2503\u001b[0m \u001b[39m    Args:\u001b[39;00m\n\u001b[1;32m   (...)\u001b[0m\n\u001b[0;32m   2527\u001b[0m \u001b[39m        ImportError: if SciPy is not available.\u001b[39;00m\n\u001b[0;32m   2528\u001b[0m \u001b[39m    \"\"\"\u001b[39;00m\n\u001b[1;32m-> 2529\u001b[0m     \u001b[39mif\u001b[39;00m scipy \u001b[39mis\u001b[39;00m \u001b[39mNone\u001b[39;00m:\n\u001b[0;32m   2530\u001b[0m         \u001b[39mraise\u001b[39;00m \u001b[39mImportError\u001b[39;00m(\n\u001b[0;32m   2531\u001b[0m             \u001b[39m\"\u001b[39m\u001b[39mImage transformations require SciPy. \u001b[39m\u001b[39m\"\u001b[39m \u001b[39m\"\u001b[39m\u001b[39mInstall SciPy.\u001b[39m\u001b[39m\"\u001b[39m\n\u001b[0;32m   2532\u001b[0m         )\n\u001b[0;32m   2534\u001b[0m     \u001b[39m# Input sanity checks:\u001b[39;00m\n\u001b[0;32m   2535\u001b[0m     \u001b[39m# 1. x must 2D image with one or more channels (i.e., a 3D tensor)\u001b[39;00m\n\u001b[0;32m   2536\u001b[0m     \u001b[39m# 2. channels must be either first or last dimension\u001b[39;00m\n",
      "\u001b[1;31mNameError\u001b[0m: name 'scipy' is not defined"
     ]
    }
   ],
   "source": [
    "hist = model.fit(\n",
    "    train_data,\n",
    "    steps_per_epoch=10,\n",
    "    epochs=30,\n",
    "    validation_data=train_data,\n",
    "    validation_steps=8,\n",
    "    callbacks=[\n",
    "        tf.keras.callbacks.ModelCheckpoint(\n",
    "            filepath='./results/model_aus.h5',\n",
    "            save_best_only=True,\n",
    "            monitor=\"accuracy\"\n",
    "        )\n",
    "    ]\n",
    ")\n",
    "\n",
    "print()\n",
    "max_acc = max(hist.history['accuracy']) * 100\n",
    "print(f'Accuracy: {max_acc = :.2f}%')"
   ]
  },
  {
   "cell_type": "code",
   "execution_count": null,
   "id": "f7235f3b-b1bf-4625-8997-374b0ebef474",
   "metadata": {},
   "outputs": [],
   "source": []
  }
 ],
 "metadata": {
  "kernelspec": {
   "display_name": "Python 3.8.10 64-bit (microsoft store)",
   "language": "python",
   "name": "python3"
  },
  "language_info": {
   "codemirror_mode": {
    "name": "ipython",
    "version": 3
   },
   "file_extension": ".py",
   "mimetype": "text/x-python",
   "name": "python",
   "nbconvert_exporter": "python",
   "pygments_lexer": "ipython3",
   "version": "3.8.10"
  },
  "vscode": {
   "interpreter": {
    "hash": "3bac574fe11901c98da7470beb09037204aaaea101993e5af58b068248c4f83d"
   }
  }
 },
 "nbformat": 4,
 "nbformat_minor": 5
}
