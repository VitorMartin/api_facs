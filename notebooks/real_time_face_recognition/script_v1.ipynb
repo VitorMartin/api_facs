{
 "cells": [
  {
   "cell_type": "markdown",
   "id": "6cf430ab-bf74-4c0d-b335-95145888b6c6",
   "metadata": {},
   "source": [
    "# Realtime Face Emotion Recognition"
   ]
  },
  {
   "cell_type": "markdown",
   "id": "b92dbdc5-3b17-4365-926a-c057ef6f21e0",
   "metadata": {},
   "source": [
    "## Preparando ambiente"
   ]
  },
  {
   "cell_type": "markdown",
   "id": "4b79ef4c-dbaf-4153-a1e5-65cb88fe10dc",
   "metadata": {},
   "source": [
    "**Bibliotecas**"
   ]
  },
  {
   "cell_type": "code",
   "execution_count": null,
   "id": "5882c8b5-cfe7-48fb-b0fd-4b4e6199360e",
   "metadata": {},
   "outputs": [],
   "source": [
    "import sys\n",
    "print('Python version:', sys.version[:sys.version.find(' ')])\n",
    "import os\n",
    "import cv2\n",
    "from deepface import DeepFace\n",
    "import matplotlib.pyplot as plt"
   ]
  },
  {
   "cell_type": "markdown",
   "id": "eef91c37-7809-4f16-96b5-1752a27f6b62",
   "metadata": {},
   "source": [
    "**Funções**"
   ]
  },
  {
   "cell_type": "code",
   "execution_count": null,
   "id": "e1604602-b31a-4f03-b215-476a7b729a82",
   "metadata": {},
   "outputs": [],
   "source": [
    "def load_img(filepath):\n",
    "    img = cv2.imread(filepath)  # BGR\n",
    "    img = cv2.cvtColor(img, cv2.COLOR_BGR2RGB)  # RGB\n",
    "    return img"
   ]
  },
  {
   "cell_type": "markdown",
   "id": "02eea5c5-3faf-4a2c-a715-bce69fdb4048",
   "metadata": {},
   "source": [
    "**Variáveis globais**"
   ]
  },
  {
   "cell_type": "code",
   "execution_count": null,
   "id": "2f7e36fd-f073-4933-ba9d-2bcfeddc25c8",
   "metadata": {},
   "outputs": [],
   "source": [
    "ROOT_DIR = os.getcwd()"
   ]
  },
  {
   "cell_type": "markdown",
   "id": "76bddfa9-da9f-4df6-b3fb-d9d74a9d2949",
   "metadata": {},
   "source": [
    "## Tratando dados"
   ]
  },
  {
   "cell_type": "code",
   "execution_count": null,
   "id": "570a79ad-4bc7-4165-a6e6-3b291fafe1f8",
   "metadata": {},
   "outputs": [],
   "source": [
    "img = load_img(os.path.join(ROOT_DIR, '..', '..', 'mock_data', 'happy_placeholder_1.jpeg'))\n",
    "\n",
    "plt.imshow(img)"
   ]
  },
  {
   "cell_type": "markdown",
   "id": "e17e5a8b-80eb-406e-ae66-7c4d9fc0b38a",
   "metadata": {},
   "source": [
    "## ML"
   ]
  },
  {
   "cell_type": "markdown",
   "id": "cb3bfefb-743e-4ef4-bb88-ef46f3ccd95c",
   "metadata": {},
   "source": [
    "### Predict imagem"
   ]
  },
  {
   "cell_type": "code",
   "execution_count": null,
   "id": "e84a9e34-a317-4aed-b8c2-d5c3ac3e53b4",
   "metadata": {},
   "outputs": [],
   "source": [
    "# 5 minutos para rodar!\n",
    "# predict = DeepFace.analyze(img)  # Demorado\n",
    "\n",
    "# Como demora cerca de 5 minutos para rodar a analise do DeepFace, segue o resultado ja salvo de outra sessao:\n",
    "predict = {\n",
    "    \"emotion\":{\n",
    "        \"angry\":7.73071634919338e-12,\n",
    "        \"disgust\":6.06908132120588e-26,\n",
    "        \"fear\":3.4441999505875854e-16,\n",
    "        \"happy\":99.99988675116818,\n",
    "        \"sad\":7.521110389429465e-14,\n",
    "        \"surprise\":4.30520249576216e-06,\n",
    "        \"neutral\":0.00011007446775132878\n",
    "    },\n",
    "    \"dominant_emotion\":\"happy\",\n",
    "    \"region\":{\n",
    "        \"x\":117,\n",
    "        \"y\":7,\n",
    "        \"w\":145,\n",
    "        \"h\":145\n",
    "    },\n",
    "    \"age\":23,\n",
    "    \"gender\":\"Man\",\n",
    "    \"race\":{\n",
    "        \"asian\":2.606395073235035,\n",
    "        \"indian\":0.6389969494193792,\n",
    "        \"black\":0.02677158045116812,\n",
    "        \"white\":62.544119358062744,\n",
    "        \"middle eastern\":10.483701527118683,\n",
    "        \"latino hispanic\":23.700018227100372\n",
    "    },\n",
    "    \"dominant_race\":\"white\"\n",
    "}\n",
    "\n",
    "predict"
   ]
  }
 ],
 "metadata": {
  "kernelspec": {
   "display_name": "notebooks_venv",
   "language": "python",
   "name": "notebooks_venv"
  },
  "language_info": {
   "codemirror_mode": {
    "name": "ipython",
    "version": 3
   },
   "file_extension": ".py",
   "mimetype": "text/x-python",
   "name": "python",
   "nbconvert_exporter": "python",
   "pygments_lexer": "ipython3",
   "version": "3.10.4"
  }
 },
 "nbformat": 4,
 "nbformat_minor": 5
}
